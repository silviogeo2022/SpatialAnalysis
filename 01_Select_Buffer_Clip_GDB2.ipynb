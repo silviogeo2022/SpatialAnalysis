{
 "cells": [
  {
   "cell_type": "markdown",
   "metadata": {},
   "source": [
    "Importando Bibliotecas"
   ]
  },
  {
   "cell_type": "code",
   "execution_count": 1,
   "metadata": {},
   "outputs": [],
   "source": [
    "import arcpy\n",
    "import pandas as pd\n",
    "from arcpy import env\n",
    "import os \n",
    "env.overwriteOutput = True\n",
    "from arcgis.features import GeoSeriesAccessor, GeoAccessor"
   ]
  },
  {
   "cell_type": "markdown",
   "metadata": {},
   "source": [
    "Definindo Workspace e criando GDB"
   ]
  },
  {
   "cell_type": "code",
   "execution_count": 2,
   "metadata": {},
   "outputs": [],
   "source": [
    "path = r\"D:\\SL_PYHON_GIS\\08_UDM_ALL\\Data\"\n",
    "arcpy.CreateFileGDB_management(path, \"Projeto.gdb\")\n",
    "path_gdb = r\"D:\\SL_PYHON_GIS\\08_UDM_ALL\\Data\\Projeto.gdb\"\n",
    "arcpy.env.workspace = path_gdb"
   ]
  },
  {
   "cell_type": "markdown",
   "metadata": {},
   "source": [
    "Seleção de município a adição de coluna"
   ]
  },
  {
   "cell_type": "code",
   "execution_count": 3,
   "metadata": {},
   "outputs": [],
   "source": [
    "fc = os.path.join(path,'PA_Municipios_2021.shp')"
   ]
  },
  {
   "cell_type": "code",
   "execution_count": 4,
   "metadata": {},
   "outputs": [],
   "source": [
    "select = \"Altamira\""
   ]
  },
  {
   "cell_type": "code",
   "execution_count": 5,
   "metadata": {},
   "outputs": [],
   "source": [
    "a = f\"NM_MUN = '{select}'\"\n",
    "b = select+'.shp'"
   ]
  },
  {
   "cell_type": "code",
   "execution_count": 6,
   "metadata": {},
   "outputs": [],
   "source": [
    "arcpy.Select_analysis(fc,select,a)\n",
    "fcs = os.path.join(path,b)"
   ]
  },
  {
   "cell_type": "code",
   "execution_count": 7,
   "metadata": {},
   "outputs": [
    {
     "data": {
      "text/html": [
       "<div class='gpresult'><h2>Messages</h2><div id='messages' data-messages='[\"Start Time: quinta-feira, 4 de maio de 2023 21:00:01\",\"Adding Classe to Altamira...\",\"Succeeded at quinta-feira, 4 de maio de 2023 21:00:03 (Elapsed Time: 2,24 seconds)\"]' data-show='true'><div id = 'default' /></div></div>"
      ],
      "text/plain": [
       "<Result 'D:\\\\SL_PYHON_GIS\\\\08_UDM_ALL\\\\Data\\\\Projeto.gdb\\\\Altamira'>"
      ]
     },
     "execution_count": 7,
     "metadata": {},
     "output_type": "execute_result"
    }
   ],
   "source": [
    "arcpy.management.AddField(select, \"Classe\", \"TEXT\", None, None, 50, '', \"NULLABLE\", \"NON_REQUIRED\", '') \n",
    "#coluna que vai identificar o limite municipal como Prioridade 1"
   ]
  },
  {
   "cell_type": "markdown",
   "metadata": {},
   "source": [
    "Definição de variáveis, inputs e outputs"
   ]
  },
  {
   "cell_type": "code",
   "execution_count": 8,
   "metadata": {},
   "outputs": [],
   "source": [
    "r = (str(60)) #raio de interesse\n",
    "b = select+'_Buffer_'+f'{r}_km'#buffer\n",
    "c = f'comunidades_em_{select}_'+'raio_de_'+f'{r}_km'#comunidades selecionas no raio de interesse\n",
    "d = 'Prioridade2'# nome dado à diferença simétrica entre o limite municipal e o buffer gerado\n",
    "e = 'Select_Prioridade2' #nome dado ao merge gerado entre o limite municipal e o buffer\n",
    "f = f'comunidades_em_{select}_'+'raio_de_'+f'{r}_km_categorias'#comunidades selecionas no raio de interesse por categoria"
   ]
  },
  {
   "cell_type": "code",
   "execution_count": 9,
   "metadata": {},
   "outputs": [],
   "source": [
    "fcs = os.path.join(path_gdb,f'{select}')# municipio selecionado\n",
    "fcb = os.path.join(path_gdb,b) #buffer gerado\n",
    "fcc = os.path.join(path_gdb,c) #comunidades selecionadas na área de interesse\n",
    "fcd = os.path.join(path_gdb,d) #diferença simétrica\n",
    "fce = os.path.join(path_gdb,e) #merge(junção) enre limite municipal e buffer\n",
    "fcf = os.path.join(path_gdb,f) #comunidades selecionadas na área de interesse com informação da categoria (prioridade 1 e 2)\n",
    "comunidades = os.path.join(path,'aglomerado_rural.shp') #comunidades usadas na análise"
   ]
  },
  {
   "cell_type": "markdown",
   "metadata": {},
   "source": [
    "Buffer, Diferença Simétrica e Merge"
   ]
  },
  {
   "cell_type": "code",
   "execution_count": 1,
   "metadata": {},
   "outputs": [],
   "source": [
    "arcpy.analysis.Buffer(fcs, fcb, f\"{r} Kilometers\", \"FULL\", \"ROUND\", \"NONE\", None, \"PLANAR\")"
   ]
  },
  {
   "cell_type": "code",
   "execution_count": 2,
   "metadata": {},
   "outputs": [],
   "source": [
    "arcpy.analysis.SymDiff(\n",
    "    in_features= fcb,\n",
    "    update_features= fcs,\n",
    "    out_feature_class=fcd,\n",
    "    join_attributes=\"ALL\",\n",
    "    cluster_tolerance=None)"
   ]
  },
  {
   "cell_type": "code",
   "execution_count": 3,
   "metadata": {},
   "outputs": [],
   "source": [
    "arcpy.management.AddField(fcd, \"Classe\", \"TEXT\", None, None, 50, '', \"NULLABLE\", \"NON_REQUIRED\", '')"
   ]
  },
  {
   "cell_type": "code",
   "execution_count": 13,
   "metadata": {},
   "outputs": [
    {
     "data": {
      "text/html": [
       "<div class='gpresult'><h2>Messages</h2><div id='messages' data-messages='[\"Start Time: quinta-feira, 4 de maio de 2023 21:00:19\",\"Succeeded at quinta-feira, 4 de maio de 2023 21:00:22 (Elapsed Time: 2,71 seconds)\"]' data-show='true'><div id = 'default' /></div></div>"
      ],
      "text/plain": [
       "<Result 'D:\\\\SL_PYHON_GIS\\\\08_UDM_ALL\\\\Data\\\\Projeto.gdb\\\\Select_Prioridade2'>"
      ]
     },
     "execution_count": 13,
     "metadata": {},
     "output_type": "execute_result"
    }
   ],
   "source": [
    "arcpy.management.Merge([select, fcd], \n",
    "                       fce, \"\", \"ADD_SOURCE_INFO\")"
   ]
  },
  {
   "cell_type": "markdown",
   "metadata": {},
   "source": [
    "Definindo áreas de Prioridades"
   ]
  },
  {
   "cell_type": "code",
   "execution_count": 14,
   "metadata": {},
   "outputs": [],
   "source": [
    "with arcpy.da.UpdateCursor(fce,['OBJECTID','Classe']) as cursor:\n",
    "    for row in cursor:\n",
    "        if row[0] == 1:\n",
    "            row[1] = 'Prioridade 1'\n",
    "        if row[0] == 2:\n",
    "            row[1] ='Prioridade 2'\n",
    "        \n",
    "        cursor.updateRow(row)"
   ]
  },
  {
   "cell_type": "markdown",
   "metadata": {},
   "source": [
    "Clip"
   ]
  },
  {
   "cell_type": "code",
   "execution_count": 15,
   "metadata": {
    "scrolled": true
   },
   "outputs": [
    {
     "data": {
      "text/html": [
       "<div class='gpresult'><h2>Messages</h2><div id='messages' data-messages='[\"Start Time: quinta-feira, 4 de maio de 2023 21:00:26\",\"Adding Classe to comunidades_em_Altamira_raio_de_60_km...\",\"Succeeded at quinta-feira, 4 de maio de 2023 21:00:27 (Elapsed Time: 1,11 seconds)\"]' data-show='true'><div id = 'default' /></div></div>"
      ],
      "text/plain": [
       "<Result 'D:\\\\SL_PYHON_GIS\\\\08_UDM_ALL\\\\Data\\\\Projeto.gdb\\\\comunidades_em_Altamira_raio_de_60_km'>"
      ]
     },
     "execution_count": 15,
     "metadata": {},
     "output_type": "execute_result"
    }
   ],
   "source": [
    "arcpy.analysis.Clip(comunidades, fcb, fcc, None)\n",
    "arcpy.management.AddField(fcc, \"Classe\", \"TEXT\", None, None, 50, '', \"NULLABLE\", \"NON_REQUIRED\", '')"
   ]
  },
  {
   "cell_type": "markdown",
   "metadata": {},
   "source": [
    "Clipando pontos por categoria de prioridade"
   ]
  },
  {
   "cell_type": "code",
   "execution_count": 16,
   "metadata": {},
   "outputs": [],
   "source": [
    "input_points = fcc\n",
    "clip_polygon = fce\n",
    "output_points = fcf\n",
    "\n",
    "# Defini um dicionário para atribuir valores às categorias\n",
    "category_dict = {\n",
    "    \"Prioridade 1\": 10,\n",
    "    \"Prioridade 2\": 20,\n",
    "}\n",
    "\n",
    "# Cria uma feature layer a partir do input de pontos\n",
    "arcpy.MakeFeatureLayer_management(input_points, 'points')\n",
    "\n",
    "# loop sobre as categorias e clipa os pontos por cada categoria de poligono\n",
    "with arcpy.da.SearchCursor(clip_polygon, [\"Classe\", \"SHAPE@\"]) as cursor:\n",
    "    for row in cursor:\n",
    "        input_points = row[0]\n",
    "        clip_polygon = row[1]\n",
    "\n",
    "        # Seleciona os pontos que intersectam as categorias do poligono\n",
    "        arcpy.SelectLayerByLocation_management(\"points\", \"INTERSECT\", clip_polygon)\n",
    "\n",
    "        # calcula os valores de categorias pelos pontos selecionados\n",
    "        category = category_dict[input_points]\n",
    "\n",
    "        # atualiza o campo de categoria pelos ponttos selecionados e limpa a seleçãoZ\n",
    "        arcpy.CalculateField_management(\"points\", \"Classe\", category)\n",
    "        arcpy.SelectLayerByAttribute_management(\"points\", \"CLEAR_SELECTION\")\n"
   ]
  },
  {
   "cell_type": "code",
   "execution_count": 17,
   "metadata": {},
   "outputs": [
    {
     "data": {
      "text/html": [
       "<div class='gpresult'><h2>Messages</h2><div id='messages' data-messages='[\"Start Time: quinta-feira, 4 de maio de 2023 21:00:30\",\"Succeeded at quinta-feira, 4 de maio de 2023 21:00:33 (Elapsed Time: 2,39 seconds)\"]' data-show='true'><div id = 'default' /></div></div>"
      ],
      "text/plain": [
       "<Result 'D:\\\\SL_PYHON_GIS\\\\08_UDM_ALL\\\\Data\\\\Projeto.gdb\\\\comunidades_em_Altamira_raio_de_60_km_categorias'>"
      ]
     },
     "execution_count": 17,
     "metadata": {},
     "output_type": "execute_result"
    }
   ],
   "source": [
    "arcpy.conversion.FeatureClassToFeatureClass(\n",
    "    in_features=\"points\",\n",
    "    out_path= path_gdb,\n",
    "    out_name= f)"
   ]
  },
  {
   "cell_type": "code",
   "execution_count": 18,
   "metadata": {},
   "outputs": [
    {
     "data": {
      "text/html": [
       "<div class='gpresult'><h2>Messages</h2><div id='messages' data-messages='[\"Start Time: quinta-feira, 4 de maio de 2023 21:00:33\",\"Adding Categoria to comunidades_em_Altamira_raio_de_60_km_categorias...\",\"Succeeded at quinta-feira, 4 de maio de 2023 21:00:34 (Elapsed Time: 1,15 seconds)\"]' data-show='true'><div id = 'default' /></div></div>"
      ],
      "text/plain": [
       "<Result 'D:\\\\SL_PYHON_GIS\\\\08_UDM_ALL\\\\Data\\\\Projeto.gdb\\\\comunidades_em_Altamira_raio_de_60_km_categorias'>"
      ]
     },
     "execution_count": 18,
     "metadata": {},
     "output_type": "execute_result"
    }
   ],
   "source": [
    "arcpy.management.AddField(fcf, \"Categoria\", \"TEXT\", None, None, 50, '', \"NULLABLE\", \"NON_REQUIRED\", '')"
   ]
  },
  {
   "cell_type": "code",
   "execution_count": 19,
   "metadata": {},
   "outputs": [],
   "source": [
    "fcf = os.path.join(path_gdb,f)"
   ]
  },
  {
   "cell_type": "code",
   "execution_count": 20,
   "metadata": {},
   "outputs": [],
   "source": [
    "with arcpy.da.UpdateCursor(fcf,['Classe','Categoria']) as cursor:\n",
    "    for row in cursor:\n",
    "        if row[0] == str(10):\n",
    "            row[1] = 'Prioridade 1'\n",
    "        if row[0] == str(20):\n",
    "            row[1] ='Prioridade 2'\n",
    "        \n",
    "        cursor.updateRow(row)"
   ]
  },
  {
   "cell_type": "markdown",
   "metadata": {},
   "source": [
    "Lendo análise como um geodataframe"
   ]
  },
  {
   "cell_type": "code",
   "execution_count": 21,
   "metadata": {},
   "outputs": [
    {
     "data": {
      "text/html": [
       "<div>\n",
       "<style scoped>\n",
       "    .dataframe tbody tr th:only-of-type {\n",
       "        vertical-align: middle;\n",
       "    }\n",
       "\n",
       "    .dataframe tbody tr th {\n",
       "        vertical-align: top;\n",
       "    }\n",
       "\n",
       "    .dataframe thead th {\n",
       "        text-align: right;\n",
       "    }\n",
       "</style>\n",
       "<table border=\"1\" class=\"dataframe\">\n",
       "  <thead>\n",
       "    <tr style=\"text-align: right;\">\n",
       "      <th></th>\n",
       "      <th>OBJECTID</th>\n",
       "      <th>nome</th>\n",
       "      <th>Classe</th>\n",
       "      <th>Categoria</th>\n",
       "    </tr>\n",
       "  </thead>\n",
       "  <tbody>\n",
       "    <tr>\n",
       "      <th>51</th>\n",
       "      <td>52</td>\n",
       "      <td>Aldeia Indígena Nassepotiti</td>\n",
       "      <td>10</td>\n",
       "      <td>Prioridade 1</td>\n",
       "    </tr>\n",
       "    <tr>\n",
       "      <th>21</th>\n",
       "      <td>22</td>\n",
       "      <td>Seringal São Jorge</td>\n",
       "      <td>10</td>\n",
       "      <td>Prioridade 1</td>\n",
       "    </tr>\n",
       "    <tr>\n",
       "      <th>56</th>\n",
       "      <td>57</td>\n",
       "      <td>Cachoeira</td>\n",
       "      <td>10</td>\n",
       "      <td>Prioridade 1</td>\n",
       "    </tr>\n",
       "    <tr>\n",
       "      <th>50</th>\n",
       "      <td>51</td>\n",
       "      <td>Agrovila Princesa do Xingu</td>\n",
       "      <td>10</td>\n",
       "      <td>Prioridade 1</td>\n",
       "    </tr>\n",
       "    <tr>\n",
       "      <th>6</th>\n",
       "      <td>7</td>\n",
       "      <td>Agrovila União</td>\n",
       "      <td>10</td>\n",
       "      <td>Prioridade 1</td>\n",
       "    </tr>\n",
       "  </tbody>\n",
       "</table>\n",
       "</div>"
      ],
      "text/plain": [
       "    OBJECTID                         nome Classe     Categoria\n",
       "51        52  Aldeia Indígena Nassepotiti     10  Prioridade 1\n",
       "21        22           Seringal São Jorge     10  Prioridade 1\n",
       "56        57                    Cachoeira     10  Prioridade 1\n",
       "50        51   Agrovila Princesa do Xingu     10  Prioridade 1\n",
       "6          7               Agrovila União     10  Prioridade 1"
      ]
     },
     "execution_count": 21,
     "metadata": {},
     "output_type": "execute_result"
    }
   ],
   "source": [
    "sdf = pd.DataFrame.spatial.from_featureclass(fcf)\n",
    "sdf = sdf.drop(['SHAPE'],axis=1)\n",
    "sdf = sdf.sort_values(['Categoria'])\n",
    "sdf.head()"
   ]
  },
  {
   "cell_type": "code",
   "execution_count": 22,
   "metadata": {},
   "outputs": [
    {
     "data": {
      "text/plain": [
       "68"
      ]
     },
     "execution_count": 22,
     "metadata": {},
     "output_type": "execute_result"
    }
   ],
   "source": [
    "qtd = sdf.shape[0]\n",
    "qtd"
   ]
  },
  {
   "cell_type": "code",
   "execution_count": 23,
   "metadata": {},
   "outputs": [],
   "source": [
    "sdf.to_excel(fr'D:\\SL_PYHON_GIS\\08_UDM_ALL\\Data\\{c}.xlsx')"
   ]
  },
  {
   "cell_type": "code",
   "execution_count": 24,
   "metadata": {},
   "outputs": [
    {
     "data": {
      "image/png": "[encoded data removed]",
      "text/plain": [
       "<Figure size 640x480 with 1 Axes>"
      ]
     },
     "metadata": {},
     "output_type": "display_data"
    },
    {
     "data": {
      "text/plain": [
       "<Figure size 640x480 with 0 Axes>"
      ]
     },
     "metadata": {},
     "output_type": "display_data"
    }
   ],
   "source": [
    "import seaborn as sns\n",
    "import matplotlib.pyplot as plt\n",
    "\n",
    "# criar um gráfico de barras com as contagens das categorias\n",
    "sns.countplot(x='Categoria', data=sdf)\n",
    "\n",
    "# adicionar um título ao gráfico\n",
    "plt.title('Contagem de Categorias')\n",
    "\n",
    "# mostrar o gráfico\n",
    "plt.show()\n",
    "\n",
    "# salvar o gráfico em formato PNG\n",
    "plt.savefig('contagem_categorias.png')\n"
   ]
  }
 ],
 "metadata": {
  "kernelspec": {
   "display_name": "Python 3 (ipykernel)",
   "language": "python",
   "name": "python3"
  },
  "language_info": {
   "codemirror_mode": {
    "name": "ipython",
    "version": 3
   },
   "file_extension": ".py",
   "mimetype": "text/x-python",
   "name": "python",
   "nbconvert_exporter": "python",
   "pygments_lexer": "ipython3",
   "version": "3.9.16"
  }
 },
 "nbformat": 4,
 "nbformat_minor": 2
}
