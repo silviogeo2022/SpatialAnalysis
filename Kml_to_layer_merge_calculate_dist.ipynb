{
 "cells": [
  {
   "cell_type": "code",
   "execution_count": 1,
   "metadata": {},
   "outputs": [],
   "source": [
    "import arcpy, os\n",
    "import pandas as pd\n",
    "from arcpy import env\n",
    "from arcpy.ia import *\n",
    "env.overwriteOutput = True\n",
    "from arcgis.features import GeoSeriesAccessor,GeoAccessor\n",
    "from arcgis import features"
   ]
  },
  {
   "cell_type": "code",
   "execution_count": 2,
   "metadata": {},
   "outputs": [],
   "source": [
    "path = r'C:\\Users\\silvio.lemos\\D\\SL_GIS_PROJECTS\\03_KML_TO_SHP\\KML'\n",
    "arcpy.env.workspace = path\n",
    "\n",
    "shp = r'C:\\Users\\silvio.lemos\\D\\SL_GIS_PROJECTS\\03_KML_TO_SHP\\SHP'"
   ]
  },
  {
   "cell_type": "code",
   "execution_count": 3,
   "metadata": {},
   "outputs": [],
   "source": [
    "# Lista todos os arquivos KML na pasta\n",
    "kml_files = [f for f in os.listdir(path) if f.lower().endswith('.kml')]"
   ]
  },
  {
   "cell_type": "code",
   "execution_count": 4,
   "metadata": {},
   "outputs": [
    {
     "name": "stdout",
     "output_type": "stream",
     "text": [
      "Conversão concluída para todos os arquivos KML.\n"
     ]
    }
   ],
   "source": [
    "# Loop para converter cada KML em camada\n",
    "for kml in kml_files:\n",
    "    kml_path = os.path.join(path, kml)\n",
    "    nome_base = os.path.splitext(kml)[0]  # Remove a extensão .kml para usar como nome da camada\n",
    "    arcpy.conversion.KMLToLayer(kml_path, shp, nome_base, \"NO_GROUNDOVERLAY\", \"\")\n",
    "\n",
    "print(\"Conversão concluída para todos os arquivos KML.\")"
   ]
  },
  {
   "cell_type": "code",
   "execution_count": 5,
   "metadata": {},
   "outputs": [],
   "source": [
    "#MERGING"
   ]
  },
  {
   "cell_type": "code",
   "execution_count": 6,
   "metadata": {},
   "outputs": [],
   "source": [
    "# path2 = r'C:\\Users\\silvio.lemos\\D\\SL_GIS_PROJECTS\\03_KML_TO_SHP'\n",
    "# arcpy.env.workspace = path2"
   ]
  },
  {
   "cell_type": "code",
   "execution_count": 7,
   "metadata": {},
   "outputs": [],
   "source": [
    "# Define o shapefile de saída para o merge\n",
    "# output_merge = os.path.join(path2, \"merged_output.shp\")\n",
    "#output_merge = r'C:\\Users\\silvio.lemos\\D\\SL_GIS_PROJECTS\\03_KML_TO_SHP\\SHP\\merged_output.shp'"
   ]
  },
  {
   "cell_type": "code",
   "execution_count": 8,
   "metadata": {},
   "outputs": [
    {
     "name": "stdout",
     "output_type": "stream",
     "text": [
      "Criando GDB de saída em: C:\\Users\\silvio.lemos\\D\\SL_GIS_PROJECTS\\03_KML_TO_SHP\\Results\\output.gdb\n",
      "\n",
      "Processando GDB: C:\\Users\\silvio.lemos\\D\\SL_GIS_PROJECTS\\03_KML_TO_SHP\\SHP\\01_1.gdb\n",
      "  Verificando dataset: Placemarks\n",
      "    Feições encontradas: ['Polylines']\n",
      "      Feição adicionada: Polylines (Tipo: Polyline)\n",
      "  Feições na raiz do GDB: []\n",
      "\n",
      "Processando GDB: C:\\Users\\silvio.lemos\\D\\SL_GIS_PROJECTS\\03_KML_TO_SHP\\SHP\\01_2.gdb\n",
      "  Verificando dataset: Placemarks\n",
      "    Feições encontradas: ['Polylines']\n",
      "      Feição adicionada: Polylines (Tipo: Polyline)\n",
      "  Feições na raiz do GDB: []\n",
      "\n",
      "Processando GDB: C:\\Users\\silvio.lemos\\D\\SL_GIS_PROJECTS\\03_KML_TO_SHP\\SHP\\01_3.gdb\n",
      "  Verificando dataset: Placemarks\n",
      "    Feições encontradas: ['Polylines']\n",
      "      Feição adicionada: Polylines (Tipo: Polyline)\n",
      "  Feições na raiz do GDB: []\n",
      "\n",
      "Processando GDB: C:\\Users\\silvio.lemos\\D\\SL_GIS_PROJECTS\\03_KML_TO_SHP\\SHP\\01_4.gdb\n",
      "  Verificando dataset: Placemarks\n",
      "    Feições encontradas: ['Polylines']\n",
      "      Feição adicionada: Polylines (Tipo: Polyline)\n",
      "  Feições na raiz do GDB: []\n",
      "\n",
      "Processando GDB: C:\\Users\\silvio.lemos\\D\\SL_GIS_PROJECTS\\03_KML_TO_SHP\\SHP\\01_5.gdb\n",
      "  Verificando dataset: Placemarks\n",
      "    Feições encontradas: ['Polylines']\n",
      "      Feição adicionada: Polylines (Tipo: Polyline)\n",
      "  Feições na raiz do GDB: []\n",
      "\n",
      "Processando GDB: C:\\Users\\silvio.lemos\\D\\SL_GIS_PROJECTS\\03_KML_TO_SHP\\SHP\\01_6.gdb\n",
      "  Verificando dataset: Placemarks\n",
      "    Feições encontradas: ['Polylines']\n",
      "      Feição adicionada: Polylines (Tipo: Polyline)\n",
      "  Feições na raiz do GDB: []\n",
      "\n",
      "Processando GDB: C:\\Users\\silvio.lemos\\D\\SL_GIS_PROJECTS\\03_KML_TO_SHP\\SHP\\01_7.gdb\n",
      "  Verificando dataset: Placemarks\n",
      "    Feições encontradas: ['Polylines']\n",
      "      Feição adicionada: Polylines (Tipo: Polyline)\n",
      "  Feições na raiz do GDB: []\n",
      "\n",
      "Realizando merge de 7 feições...\n",
      "Merge concluído! Feições salvas em C:\\Users\\silvio.lemos\\D\\SL_GIS_PROJECTS\\03_KML_TO_SHP\\Results\\output.gdb\\Polylines_Merge\n"
     ]
    }
   ],
   "source": [
    "# 1. Defina o caminho da pasta onde estão os GDBs\n",
    "pasta_gdbs = r'C:\\Users\\silvio.lemos\\D\\SL_GIS_PROJECTS\\03_KML_TO_SHP\\SHP'\n",
    "\n",
    "# 2. Defina o caminho de saída para o arquivo merge\n",
    "output_gdb = r'C:\\Users\\silvio.lemos\\D\\SL_GIS_PROJECTS\\03_KML_TO_SHP\\Results\\output.gdb'\n",
    "nome_feicao_saida = \"Polylines_Merge\"\n",
    "\n",
    "# 3. Verifica se o GDB de saída existe; se não, cria ele\n",
    "if not arcpy.Exists(output_gdb):\n",
    "    print(f\"Criando GDB de saída em: {output_gdb}\")\n",
    "    arcpy.management.CreateFileGDB(os.path.dirname(output_gdb), os.path.basename(output_gdb))\n",
    "else:\n",
    "    print(f\"GDB de saída já existe: {output_gdb}\")\n",
    "\n",
    "# 4. Lista todos os GDBs na pasta\n",
    "gdbs = [os.path.join(pasta_gdbs, gdb) for gdb in os.listdir(pasta_gdbs) if gdb.endswith(\".gdb\")]\n",
    "\n",
    "# 5. Lista para armazenar todas as feições do tipo Polyline\n",
    "feicoes_para_merge = []\n",
    "\n",
    "# 6. Loop através de cada GDB\n",
    "for gdb in gdbs:\n",
    "    arcpy.env.workspace = gdb\n",
    "    print(f\"\\nProcessando GDB: {gdb}\")\n",
    "\n",
    "    # Verifica datasets dentro do GDB\n",
    "    datasets = arcpy.ListDatasets()\n",
    "    for dataset in datasets:\n",
    "        print(f\"  Verificando dataset: {dataset}\")\n",
    "        arcpy.env.workspace = os.path.join(gdb, dataset)\n",
    "        # Lista todas as feições, independentemente do tipo\n",
    "        feicoes = arcpy.ListFeatureClasses()\n",
    "        print(f\"    Feições encontradas: {feicoes}\")\n",
    "        # Filtra apenas feições do tipo Polyline\n",
    "        for feicao in feicoes:\n",
    "            desc = arcpy.Describe(feicao)\n",
    "            if desc.shapeType == \"Polyline\":\n",
    "                feicoes_para_merge.append(os.path.join(gdb, dataset, feicao))\n",
    "                print(f\"      Feição adicionada: {feicao} (Tipo: {desc.shapeType})\")\n",
    "\n",
    "    # Verifica também na raiz do GDB\n",
    "    arcpy.env.workspace = gdb\n",
    "    feicoes = arcpy.ListFeatureClasses()\n",
    "    print(f\"  Feições na raiz do GDB: {feicoes}\")\n",
    "    for feicao in feicoes:\n",
    "        desc = arcpy.Describe(feicao)\n",
    "        if desc.shapeType == \"Polyline\":\n",
    "            feicoes_para_merge.append(os.path.join(gdb, feicao))\n",
    "            print(f\"    Feição adicionada: {feicao} (Tipo: {desc.shapeType})\")\n",
    "\n",
    "# 7. Verifica se há feições para merge\n",
    "if len(feicoes_para_merge) > 0:\n",
    "    # Realiza o merge\n",
    "    print(f\"\\nRealizando merge de {len(feicoes_para_merge)} feições...\")\n",
    "    arcpy.management.Merge(feicoes_para_merge, os.path.join(output_gdb, nome_feicao_saida))\n",
    "    print(f\"Merge concluído! Feições salvas em {os.path.join(output_gdb, nome_feicao_saida)}\")\n",
    "else:\n",
    "    print(\"\\nNenhuma feição do tipo Polyline encontrada para merge.\")"
   ]
  },
  {
   "cell_type": "code",
   "execution_count": 9,
   "metadata": {},
   "outputs": [],
   "source": [
    "#CRIANDO CAMPO DE DISTANCIA"
   ]
  },
  {
   "cell_type": "code",
   "execution_count": 10,
   "metadata": {},
   "outputs": [
    {
     "data": {
      "text/html": [
       "<div class='gpresult'><h2>Messages</h2><div id='messages'>Start Time: terça-feira, 18 de fevereiro de 2025 16:14:11<br>Adding dist to Polylines_Merge...<br>Succeeded at terça-feira, 18 de fevereiro de 2025 16:14:12 (Elapsed Time: 0,41 seconds)<br></div><div id = 'default' /></div></div>"
      ],
      "text/plain": [
       "<Result 'Polylines_Merge'>"
      ]
     },
     "execution_count": 10,
     "metadata": {},
     "output_type": "execute_result"
    }
   ],
   "source": [
    "arcpy.management.AddField(\"Polylines_Merge\",\"dist\",\"DOUBLE\")"
   ]
  },
  {
   "cell_type": "code",
   "execution_count": 13,
   "metadata": {},
   "outputs": [],
   "source": [
    "spatial_reference = arcpy.SpatialReference(4326)"
   ]
  },
  {
   "cell_type": "code",
   "execution_count": 14,
   "metadata": {},
   "outputs": [
    {
     "data": {
      "text/html": [
       "<div class='gpresult'><h2>Messages</h2><div id='messages'>Start Time: terça-feira, 18 de fevereiro de 2025 16:20:18<br>Succeeded at terça-feira, 18 de fevereiro de 2025 16:20:22 (Elapsed Time: 4,41 seconds)<br></div><div id = 'default' /></div></div>"
      ],
      "text/plain": [
       "<Result 'Polylines_Merge'>"
      ]
     },
     "execution_count": 14,
     "metadata": {},
     "output_type": "execute_result"
    }
   ],
   "source": [
    "arcpy.management.CalculateGeometryAttributes(\"Polylines_Merge\",\"dist LENGTH_GEODESIC\",\"METERS\",\"\",spatial_reference,\"SAME_AS_INPUT\")"
   ]
  },
  {
   "cell_type": "code",
   "execution_count": null,
   "metadata": {},
   "outputs": [],
   "source": []
  }
 ],
 "metadata": {
  "kernelspec": {
   "display_name": "ArcGISPro",
   "language": "Python",
   "name": "python3"
  },
  "language_info": {
   "file_extension": ".py",
   "name": "python",
   "version": "3"
  }
 },
 "nbformat": 4,
 "nbformat_minor": 2
}
